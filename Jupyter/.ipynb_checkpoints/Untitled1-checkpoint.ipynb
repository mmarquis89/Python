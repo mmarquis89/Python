{
 "cells": [
  {
   "cell_type": "code",
   "execution_count": null,
   "metadata": {},
   "outputs": [],
   "source": [
    "import subprocess\n",
    "import re\n",
    "import os\n",
    "import time\n",
    "\n",
    "# This can be any valid agent string\n",
    "AGENT = '\"Mozilla/5.0 (Windows NT 6.1; Win64; x64; rv:47.0) Gecko/20100101 Firefox/47.0\"'\n",
    "OUTPUT_FOLDER = 'output/'\n",
    "TEMP = 'temp.jpg'\n",
    "EXT = '.jpg'\n",
    "COOKIES_FILE = 'cookies.txt'\n",
    "FBID_FILE = 'list.txt'\n",
    "PREFIX = 'https://m.facebook.com/photo/view_full_size/?fbid='\n",
    "\n",
    "os.mkdir(OUTPUT_FOLDER)\n",
    "\n",
    "with open(FBID_FILE) as fbids:\n",
    "    for fbid in fbids:\n",
    "        fbid = fbid.rstrip()\n",
    "\n",
    "        # The fbid URL doesn't point to the picture but to a page that generates a URL for the file. Get that URL\n",
    "        redirect = subprocess.check_output(['curl', '--cookie', COOKIES_FILE, '-A', AGENT, PREFIX + fbid]).decode(\"utf-8\")\n",
    "        print(PREFIX+fbid)\n",
    "        final = re.search(r'(?<=url=).*?(?=\")', redirect).group(0).replace('&amp;', '&')\n",
    "\n",
    "        # Download the actual pic\n",
    "        subprocess.Popen([\n",
    "            'curl',\n",
    "            '--remote-time', # Keep the timestamp\n",
    "            '--cookie', COOKIES_FILE, # Use cookies so Facebook lets us in\n",
    "            '-A', AGENT, # Tell Facebook we are some browser instead of curl\n",
    "            '--output', TEMP, # File destination\n",
    "            final, # URL to retrieve\n",
    "        ]).wait() # Wait for subprocess to finish before accessing the file\n",
    "\n",
    "        # Get the timestamp\n",
    "        stamp = time.strftime('%Y%m%d', time.localtime(os.path.getmtime(TEMP)))\n",
    "\n",
    "#         # Rename avoiding duplicates\n",
    "#         name = stamp + EXT\n",
    "#         i=1\n",
    "#         while os.path.isfile(OUTPUT_FOLDER + name):\n",
    "#             # Another file with the same date already exists, add a number\n",
    "#             name = stamp + ' ' + str(i) + EXT\n",
    "#             i+=1\n",
    "#         os.rename(TEMP, OUTPUT_FOLDER + name)\n"
   ]
  }
 ],
 "metadata": {
  "kernelspec": {
   "display_name": "Python 3",
   "language": "python",
   "name": "python3"
  },
  "language_info": {
   "codemirror_mode": {
    "name": "ipython",
    "version": 3
   },
   "file_extension": ".py",
   "mimetype": "text/x-python",
   "name": "python",
   "nbconvert_exporter": "python",
   "pygments_lexer": "ipython3",
   "version": "3.8.5"
  },
  "varInspector": {
   "cols": {
    "lenName": 16,
    "lenType": 16,
    "lenVar": 40
   },
   "kernels_config": {
    "python": {
     "delete_cmd_postfix": "",
     "delete_cmd_prefix": "del ",
     "library": "var_list.py",
     "varRefreshCmd": "print(var_dic_list())"
    },
    "r": {
     "delete_cmd_postfix": ") ",
     "delete_cmd_prefix": "rm(",
     "library": "var_list.r",
     "varRefreshCmd": "cat(var_dic_list()) "
    }
   },
   "types_to_exclude": [
    "module",
    "function",
    "builtin_function_or_method",
    "instance",
    "_Feature"
   ],
   "window_display": true
  }
 },
 "nbformat": 4,
 "nbformat_minor": 4
}
