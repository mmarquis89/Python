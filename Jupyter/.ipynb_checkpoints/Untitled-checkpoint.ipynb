{
 "cells": [
  {
   "cell_type": "code",
   "execution_count": 4,
   "metadata": {},
   "outputs": [],
   "source": [
    "import pyautogui, time, os"
   ]
  },
  {
   "cell_type": "code",
   "execution_count": 19,
   "metadata": {},
   "outputs": [
    {
     "name": "stdout",
     "output_type": "stream",
     "text": [
      "777, 505\n"
     ]
    }
   ],
   "source": [
    "\n",
    "x, y = pyautogui.position()\n",
    "print(str(x) + ', ' + str(y))\n"
   ]
  },
  {
   "cell_type": "code",
   "execution_count": 20,
   "metadata": {},
   "outputs": [],
   "source": [
    "menuButtonLoc = (1866, 197) # (-49, 198)\n",
    "externalDlButtonLoc = (1595, 381) #(-327, 388)\n",
    "# editCancelButtonLoc = (-750, 351)\n",
    "\n",
    "nextPhotoButtonLoc = (1510, 548) #(-417, 559)\n",
    "saveButtonLoc = (777, 505) #(-1137, 507)"
   ]
  },
  {
   "cell_type": "code",
   "execution_count": 5,
   "metadata": {},
   "outputs": [],
   "source": [
    "# FUNCTION DEFINITIONS\n",
    "\n",
    "pyautogui.FAILSAFE = True\n",
    "\n",
    "def findDlButton():\n",
    "    dlButtonLoc = pyautogui.locateCenterOnScreen(\"C:\\\\Users\\\\Wilson Lab\\\\Documents\\\\Python\\\\Jupyter\\\\dl.png\", confidence=0.9)\n",
    "    return dlButtonLoc\n",
    "\n",
    "def findMenuButton():\n",
    "    menuButtonLoc = pyautogui.locateCenterOnScreen(\"C:\\\\Users\\\\Wilson Lab\\\\Documents\\\\Python\\\\Jupyter\\\\menu.png\",confidence=0.9)\n",
    "    return menuButtonLoc\n",
    "\n",
    "def findSaveButton():\n",
    "    saveButtonLoc = pyautogui.locateCenterOnScreen(\"C:\\\\Users\\\\Wilson Lab\\\\Documents\\\\Python\\\\Jupyter\\\\save.png\",confidence=0.9)\n",
    "    return saveButtonLoc\n",
    "\n",
    "def findNextButton():\n",
    "    nextButtonLoc = pyautogui.locateCenterOnScreen(\"C:\\\\Users\\\\Wilson Lab\\\\Documents\\\\Python\\\\Jupyter\\\\next.png\",confidence=0.9)\n",
    "    return nextButtonLoc\n",
    "\n"
   ]
  },
  {
   "cell_type": "code",
   "execution_count": 7,
   "metadata": {},
   "outputs": [
    {
     "name": "stdout",
     "output_type": "stream",
     "text": [
      "0\n"
     ]
    },
    {
     "ename": "NameError",
     "evalue": "name 'dlButtonLoc' is not defined",
     "output_type": "error",
     "traceback": [
      "\u001b[1;31m---------------------------------------------------------------------------\u001b[0m",
      "\u001b[1;31mNameError\u001b[0m                                 Traceback (most recent call last)",
      "\u001b[1;32m<ipython-input-7-479c2443cba8>\u001b[0m in \u001b[0;36m<module>\u001b[1;34m\u001b[0m\n\u001b[0;32m     20\u001b[0m         \u001b[1;31m# Wait a couple seconds and try again in case the menu was just taking a while to load\u001b[0m\u001b[1;33m\u001b[0m\u001b[1;33m\u001b[0m\u001b[1;33m\u001b[0m\u001b[0m\n\u001b[0;32m     21\u001b[0m         \u001b[0mtime\u001b[0m\u001b[1;33m.\u001b[0m\u001b[0msleep\u001b[0m\u001b[1;33m(\u001b[0m\u001b[1;36m2\u001b[0m\u001b[1;33m)\u001b[0m\u001b[1;33m\u001b[0m\u001b[1;33m\u001b[0m\u001b[0m\n\u001b[1;32m---> 22\u001b[1;33m         \u001b[1;32mif\u001b[0m \u001b[0mdlButtonLoc\u001b[0m \u001b[1;32mis\u001b[0m \u001b[1;32mnot\u001b[0m \u001b[1;32mNone\u001b[0m\u001b[1;33m:\u001b[0m\u001b[1;33m\u001b[0m\u001b[1;33m\u001b[0m\u001b[0m\n\u001b[0m\u001b[0;32m     23\u001b[0m             \u001b[0mpyautogui\u001b[0m\u001b[1;33m.\u001b[0m\u001b[0mclick\u001b[0m\u001b[1;33m(\u001b[0m\u001b[0mdlButtonLoc\u001b[0m\u001b[1;33m)\u001b[0m\u001b[1;33m\u001b[0m\u001b[1;33m\u001b[0m\u001b[0m\n\u001b[0;32m     24\u001b[0m             \u001b[0mtime\u001b[0m\u001b[1;33m.\u001b[0m\u001b[0msleep\u001b[0m\u001b[1;33m(\u001b[0m\u001b[1;36m1\u001b[0m\u001b[1;33m)\u001b[0m\u001b[1;33m\u001b[0m\u001b[1;33m\u001b[0m\u001b[0m\n",
      "\u001b[1;31mNameError\u001b[0m: name 'dlButtonLoc' is not defined"
     ]
    }
   ],
   "source": [
    "nReps = 10\n",
    "\n",
    "\n",
    "for i in range(0, nReps):\n",
    "    print(i)\n",
    "    \n",
    "#     # Click menu button\n",
    "#     pyautogui.click(findMenuButton())\n",
    "#     time.sleep(0.5)\n",
    "               \n",
    "    # Click the download button if it was found, otherwise wait a couple seconds and try again\n",
    "    if findDlButton() is not None:\n",
    "        pyautogui.click(findDlButton())\n",
    "        time.sleep(1)\n",
    "    \n",
    "        # Click save button loc\n",
    "        pyautogui.click(saveButtonLoc)\n",
    "        time.sleep(0.5)\n",
    "    else:\n",
    "        # Wait a couple seconds and try again in case the menu was just taking a while to load\n",
    "        time.sleep(2)\n",
    "        if findDlButton() is not None:\n",
    "            pyautogui.click(findDlButton())\n",
    "            time.sleep(1)\n",
    "            \n",
    "            # Click save button loc\n",
    "            pyautogui.click(findSaveButton())\n",
    "            time.sleep(0.5)\n",
    "    \n",
    "\n",
    "    # Click \"next photo\" button loc\n",
    "    pyautogui.click(findNextButton())\n",
    "    time.sleep(0.5)\n",
    "\n",
    "    \n"
   ]
  },
  {
   "cell_type": "code",
   "execution_count": null,
   "metadata": {},
   "outputs": [],
   "source": [
    "#         # Scroll down to make sure download button is visible\n",
    "#         pyautogui.moveTo(externalDlButtonLoc)\n",
    "#         time.sleep(0.1)\n",
    "#         pyautogui.scroll(-1200)\n",
    "    \n",
    "#     # Click external download button loc (internal \"edit location\" loc)\n",
    "#     pyautogui.click(externalDlButtonLoc)\n",
    "#     time.sleep(1)\n",
    "\n",
    "#     # Click \"edit location\" cancel button loc\n",
    "#     pyautogui.click(editCancelButtonLoc)\n",
    "#     time.sleep(1)"
   ]
  },
  {
   "cell_type": "code",
   "execution_count": 24,
   "metadata": {},
   "outputs": [
    {
     "name": "stdout",
     "output_type": "stream",
     "text": [
      "None\n"
     ]
    }
   ],
   "source": [
    "centerXY = pyautogui.locateCenterOnScreen(\"C:\\\\Users\\\\Wilson Lab\\\\Documents\\\\Python\\\\Jupyter\\\\dl.png\", confidence=0.9)\n",
    "# pyautogui.moveTo(centerXY)\n",
    "print(centerXY)"
   ]
  }
 ],
 "metadata": {
  "kernelspec": {
   "display_name": "Python 3",
   "language": "python",
   "name": "python3"
  },
  "language_info": {
   "codemirror_mode": {
    "name": "ipython",
    "version": 3
   },
   "file_extension": ".py",
   "mimetype": "text/x-python",
   "name": "python",
   "nbconvert_exporter": "python",
   "pygments_lexer": "ipython3",
   "version": "3.8.5"
  },
  "varInspector": {
   "cols": {
    "lenName": 16,
    "lenType": 16,
    "lenVar": 40
   },
   "kernels_config": {
    "python": {
     "delete_cmd_postfix": "",
     "delete_cmd_prefix": "del ",
     "library": "var_list.py",
     "varRefreshCmd": "print(var_dic_list())"
    },
    "r": {
     "delete_cmd_postfix": ") ",
     "delete_cmd_prefix": "rm(",
     "library": "var_list.r",
     "varRefreshCmd": "cat(var_dic_list()) "
    }
   },
   "types_to_exclude": [
    "module",
    "function",
    "builtin_function_or_method",
    "instance",
    "_Feature"
   ],
   "window_display": true
  }
 },
 "nbformat": 4,
 "nbformat_minor": 4
}
