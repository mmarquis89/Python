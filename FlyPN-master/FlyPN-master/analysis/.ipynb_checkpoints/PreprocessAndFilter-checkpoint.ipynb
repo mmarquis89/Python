{
 "cells": [
  {
   "cell_type": "markdown",
   "metadata": {},
   "source": [
    "# Preprocess gene count data, filter to remove low quality cells and non-neuronal cells"
   ]
  },
  {
   "cell_type": "code",
   "execution_count": 1,
   "metadata": {
    "collapsed": false
   },
   "outputs": [],
   "source": [
    "from __future__ import division\n",
    "import random\n",
    "import copy\n",
    "import math\n",
    "import json\n",
    "\n",
    "import numpy as np\n",
    "import pandas as pd\n",
    "import scipy\n",
    "\n",
    "%matplotlib inline\n",
    "from matplotlib import pyplot as plt\n",
    "import matplotlib as mpl\n",
    "\n",
    "import seaborn as sns\n",
    "\n",
    "sns.set_style(\"ticks\")\n",
    "sns.set_context(\"talk\")\n",
    "\n",
    "output_dir = \"out/\"\n",
    "output_suffix = \"\"\n",
    "output_formats = [\".png\", \".pdf\"]\n",
    "\n",
    "def save_figure(fig, name):\n",
    "    for output_format in output_formats:\n",
    "        fig.savefig(output_dir + \"/\" + name + output_suffix + output_format)\n",
    "    return None\n",
    "\n",
    "mpl.rc('savefig', dpi=300)"
   ]
  },
  {
   "cell_type": "code",
   "execution_count": 2,
   "metadata": {
    "collapsed": true
   },
   "outputs": [],
   "source": [
    "df_libs = pd.read_csv(\"../data/libs.csv\", sep=\",\", header=0, index_col=0) # sample info"
   ]
  },
  {
   "cell_type": "markdown",
   "metadata": {},
   "source": [
    "# Load data and drop uninformative symbols"
   ]
  },
  {
   "cell_type": "code",
   "execution_count": 3,
   "metadata": {
    "collapsed": false
   },
   "outputs": [
    {
     "name": "stdout",
     "output_type": "stream",
     "text": [
      "Number of genes detected in any sample 15524\n"
     ]
    },
    {
     "data": {
      "text/html": [
       "<div>\n",
       "<table border=\"1\" class=\"dataframe\">\n",
       "  <thead>\n",
       "    <tr style=\"text-align: right;\">\n",
       "      <th></th>\n",
       "      <th>IL7024-708-501</th>\n",
       "      <th>IL7024-708-502</th>\n",
       "      <th>IL7024-708-503</th>\n",
       "      <th>IL7024-708-504</th>\n",
       "      <th>IL7024-708-505</th>\n",
       "      <th>IL7024-708-506</th>\n",
       "      <th>IL7024-708-507</th>\n",
       "      <th>IL7024-708-508</th>\n",
       "      <th>IL7024-709-501</th>\n",
       "      <th>IL7024-709-502</th>\n",
       "      <th>...</th>\n",
       "      <th>IL7017-709-507</th>\n",
       "      <th>IL7017-709-508</th>\n",
       "      <th>IL7017-710-501</th>\n",
       "      <th>IL7017-710-502</th>\n",
       "      <th>IL7017-710-503</th>\n",
       "      <th>IL7017-710-504</th>\n",
       "      <th>IL7017-710-505</th>\n",
       "      <th>IL7017-710-506</th>\n",
       "      <th>IL7017-710-507</th>\n",
       "      <th>IL7017-710-508</th>\n",
       "    </tr>\n",
       "    <tr>\n",
       "      <th>symbol</th>\n",
       "      <th></th>\n",
       "      <th></th>\n",
       "      <th></th>\n",
       "      <th></th>\n",
       "      <th></th>\n",
       "      <th></th>\n",
       "      <th></th>\n",
       "      <th></th>\n",
       "      <th></th>\n",
       "      <th></th>\n",
       "      <th></th>\n",
       "      <th></th>\n",
       "      <th></th>\n",
       "      <th></th>\n",
       "      <th></th>\n",
       "      <th></th>\n",
       "      <th></th>\n",
       "      <th></th>\n",
       "      <th></th>\n",
       "      <th></th>\n",
       "      <th></th>\n",
       "    </tr>\n",
       "  </thead>\n",
       "  <tbody>\n",
       "    <tr>\n",
       "      <th>ERCC-00002</th>\n",
       "      <td>0</td>\n",
       "      <td>0</td>\n",
       "      <td>0</td>\n",
       "      <td>0</td>\n",
       "      <td>0</td>\n",
       "      <td>0</td>\n",
       "      <td>0</td>\n",
       "      <td>0</td>\n",
       "      <td>0</td>\n",
       "      <td>1</td>\n",
       "      <td>...</td>\n",
       "      <td>0</td>\n",
       "      <td>0</td>\n",
       "      <td>0</td>\n",
       "      <td>0</td>\n",
       "      <td>0</td>\n",
       "      <td>0</td>\n",
       "      <td>0</td>\n",
       "      <td>0</td>\n",
       "      <td>0</td>\n",
       "      <td>0</td>\n",
       "    </tr>\n",
       "    <tr>\n",
       "      <th>ERCC-00003</th>\n",
       "      <td>0</td>\n",
       "      <td>0</td>\n",
       "      <td>0</td>\n",
       "      <td>0</td>\n",
       "      <td>0</td>\n",
       "      <td>0</td>\n",
       "      <td>0</td>\n",
       "      <td>0</td>\n",
       "      <td>0</td>\n",
       "      <td>0</td>\n",
       "      <td>...</td>\n",
       "      <td>0</td>\n",
       "      <td>0</td>\n",
       "      <td>0</td>\n",
       "      <td>0</td>\n",
       "      <td>0</td>\n",
       "      <td>0</td>\n",
       "      <td>0</td>\n",
       "      <td>0</td>\n",
       "      <td>0</td>\n",
       "      <td>0</td>\n",
       "    </tr>\n",
       "    <tr>\n",
       "      <th>ERCC-00004</th>\n",
       "      <td>0</td>\n",
       "      <td>0</td>\n",
       "      <td>0</td>\n",
       "      <td>0</td>\n",
       "      <td>0</td>\n",
       "      <td>0</td>\n",
       "      <td>0</td>\n",
       "      <td>0</td>\n",
       "      <td>0</td>\n",
       "      <td>0</td>\n",
       "      <td>...</td>\n",
       "      <td>0</td>\n",
       "      <td>0</td>\n",
       "      <td>0</td>\n",
       "      <td>0</td>\n",
       "      <td>0</td>\n",
       "      <td>0</td>\n",
       "      <td>0</td>\n",
       "      <td>0</td>\n",
       "      <td>0</td>\n",
       "      <td>0</td>\n",
       "    </tr>\n",
       "    <tr>\n",
       "      <th>ERCC-00007</th>\n",
       "      <td>0</td>\n",
       "      <td>0</td>\n",
       "      <td>0</td>\n",
       "      <td>0</td>\n",
       "      <td>0</td>\n",
       "      <td>0</td>\n",
       "      <td>0</td>\n",
       "      <td>0</td>\n",
       "      <td>0</td>\n",
       "      <td>0</td>\n",
       "      <td>...</td>\n",
       "      <td>0</td>\n",
       "      <td>0</td>\n",
       "      <td>0</td>\n",
       "      <td>0</td>\n",
       "      <td>0</td>\n",
       "      <td>0</td>\n",
       "      <td>0</td>\n",
       "      <td>0</td>\n",
       "      <td>0</td>\n",
       "      <td>0</td>\n",
       "    </tr>\n",
       "    <tr>\n",
       "      <th>ERCC-00009</th>\n",
       "      <td>0</td>\n",
       "      <td>0</td>\n",
       "      <td>0</td>\n",
       "      <td>0</td>\n",
       "      <td>0</td>\n",
       "      <td>0</td>\n",
       "      <td>0</td>\n",
       "      <td>0</td>\n",
       "      <td>0</td>\n",
       "      <td>0</td>\n",
       "      <td>...</td>\n",
       "      <td>0</td>\n",
       "      <td>0</td>\n",
       "      <td>0</td>\n",
       "      <td>0</td>\n",
       "      <td>0</td>\n",
       "      <td>0</td>\n",
       "      <td>0</td>\n",
       "      <td>0</td>\n",
       "      <td>0</td>\n",
       "      <td>0</td>\n",
       "    </tr>\n",
       "  </tbody>\n",
       "</table>\n",
       "<p>5 rows × 2476 columns</p>\n",
       "</div>"
      ],
      "text/plain": [
       "            IL7024-708-501  IL7024-708-502  IL7024-708-503  IL7024-708-504  \\\n",
       "symbol                                                                       \n",
       "ERCC-00002               0               0               0               0   \n",
       "ERCC-00003               0               0               0               0   \n",
       "ERCC-00004               0               0               0               0   \n",
       "ERCC-00007               0               0               0               0   \n",
       "ERCC-00009               0               0               0               0   \n",
       "\n",
       "            IL7024-708-505  IL7024-708-506  IL7024-708-507  IL7024-708-508  \\\n",
       "symbol                                                                       \n",
       "ERCC-00002               0               0               0               0   \n",
       "ERCC-00003               0               0               0               0   \n",
       "ERCC-00004               0               0               0               0   \n",
       "ERCC-00007               0               0               0               0   \n",
       "ERCC-00009               0               0               0               0   \n",
       "\n",
       "            IL7024-709-501  IL7024-709-502       ...        IL7017-709-507  \\\n",
       "symbol                                           ...                         \n",
       "ERCC-00002               0               1       ...                     0   \n",
       "ERCC-00003               0               0       ...                     0   \n",
       "ERCC-00004               0               0       ...                     0   \n",
       "ERCC-00007               0               0       ...                     0   \n",
       "ERCC-00009               0               0       ...                     0   \n",
       "\n",
       "            IL7017-709-508  IL7017-710-501  IL7017-710-502  IL7017-710-503  \\\n",
       "symbol                                                                       \n",
       "ERCC-00002               0               0               0               0   \n",
       "ERCC-00003               0               0               0               0   \n",
       "ERCC-00004               0               0               0               0   \n",
       "ERCC-00007               0               0               0               0   \n",
       "ERCC-00009               0               0               0               0   \n",
       "\n",
       "            IL7017-710-504  IL7017-710-505  IL7017-710-506  IL7017-710-507  \\\n",
       "symbol                                                                       \n",
       "ERCC-00002               0               0               0               0   \n",
       "ERCC-00003               0               0               0               0   \n",
       "ERCC-00004               0               0               0               0   \n",
       "ERCC-00007               0               0               0               0   \n",
       "ERCC-00009               0               0               0               0   \n",
       "\n",
       "            IL7017-710-508  \n",
       "symbol                      \n",
       "ERCC-00002               0  \n",
       "ERCC-00003               0  \n",
       "ERCC-00004               0  \n",
       "ERCC-00007               0  \n",
       "ERCC-00009               0  \n",
       "\n",
       "[5 rows x 2476 columns]"
      ]
     },
     "execution_count": 3,
     "metadata": {},
     "output_type": "execute_result"
    }
   ],
   "source": [
    "df = pd.read_csv(\"../data/htseq.tab.gz\", sep=\"\\t\", header=0, index_col=0)\n",
    "df = df.iloc[np.nonzero(np.sum(df, axis=1))[0],] # Drop genes never detected\n",
    "df.drop([\"__no_feature\", \"__ambiguous\", \"__alignment_not_unique\"], inplace=True)\n",
    "print \"Number of genes detected in any sample\", df.shape[0]\n",
    "df.head()"
   ]
  },
  {
   "cell_type": "markdown",
   "metadata": {},
   "source": [
    "# Map gene names to common symbols"
   ]
  },
  {
   "cell_type": "code",
   "execution_count": 4,
   "metadata": {
    "collapsed": true
   },
   "outputs": [],
   "source": [
    "# Convert gene names from Ensembl to symbols\n",
    "df_ensembleToSymbol = pd.read_csv(\"../resources/ensemblToSymbol.csv\", header=0, index_col=0, sep=\",\")\n",
    "df[\"symbol\"] = df_ensembleToSymbol.loc[df.index][\"symbol\"]\n",
    "df.set_index(\"symbol\", inplace=True)"
   ]
  },
  {
   "cell_type": "markdown",
   "metadata": {},
   "source": [
    "# Calculate CPM, log2(CPM+1)"
   ]
  },
  {
   "cell_type": "code",
   "execution_count": 5,
   "metadata": {
    "collapsed": false
   },
   "outputs": [
    {
     "data": {
      "text/html": [
       "<div>\n",
       "<table border=\"1\" class=\"dataframe\">\n",
       "  <thead>\n",
       "    <tr style=\"text-align: right;\">\n",
       "      <th></th>\n",
       "      <th>IL7024-708-501</th>\n",
       "      <th>IL7024-708-502</th>\n",
       "      <th>IL7024-708-503</th>\n",
       "      <th>IL7024-708-504</th>\n",
       "      <th>IL7024-708-505</th>\n",
       "      <th>IL7024-708-506</th>\n",
       "      <th>IL7024-708-507</th>\n",
       "      <th>IL7024-708-508</th>\n",
       "      <th>IL7024-709-501</th>\n",
       "      <th>IL7024-709-502</th>\n",
       "      <th>...</th>\n",
       "      <th>IL7017-709-507</th>\n",
       "      <th>IL7017-709-508</th>\n",
       "      <th>IL7017-710-501</th>\n",
       "      <th>IL7017-710-502</th>\n",
       "      <th>IL7017-710-503</th>\n",
       "      <th>IL7017-710-504</th>\n",
       "      <th>IL7017-710-505</th>\n",
       "      <th>IL7017-710-506</th>\n",
       "      <th>IL7017-710-507</th>\n",
       "      <th>IL7017-710-508</th>\n",
       "    </tr>\n",
       "    <tr>\n",
       "      <th>symbol</th>\n",
       "      <th></th>\n",
       "      <th></th>\n",
       "      <th></th>\n",
       "      <th></th>\n",
       "      <th></th>\n",
       "      <th></th>\n",
       "      <th></th>\n",
       "      <th></th>\n",
       "      <th></th>\n",
       "      <th></th>\n",
       "      <th></th>\n",
       "      <th></th>\n",
       "      <th></th>\n",
       "      <th></th>\n",
       "      <th></th>\n",
       "      <th></th>\n",
       "      <th></th>\n",
       "      <th></th>\n",
       "      <th></th>\n",
       "      <th></th>\n",
       "      <th></th>\n",
       "    </tr>\n",
       "  </thead>\n",
       "  <tbody>\n",
       "    <tr>\n",
       "      <th>ERCC-00002</th>\n",
       "      <td>0.0</td>\n",
       "      <td>0.0</td>\n",
       "      <td>0.0</td>\n",
       "      <td>0.0</td>\n",
       "      <td>0.0</td>\n",
       "      <td>0.0</td>\n",
       "      <td>0.0</td>\n",
       "      <td>0.0</td>\n",
       "      <td>0.0</td>\n",
       "      <td>0.345941</td>\n",
       "      <td>...</td>\n",
       "      <td>0.0</td>\n",
       "      <td>0.0</td>\n",
       "      <td>0.0</td>\n",
       "      <td>0.0</td>\n",
       "      <td>0.0</td>\n",
       "      <td>0.0</td>\n",
       "      <td>0.0</td>\n",
       "      <td>0.0</td>\n",
       "      <td>0.0</td>\n",
       "      <td>0.0</td>\n",
       "    </tr>\n",
       "    <tr>\n",
       "      <th>ERCC-00003</th>\n",
       "      <td>0.0</td>\n",
       "      <td>0.0</td>\n",
       "      <td>0.0</td>\n",
       "      <td>0.0</td>\n",
       "      <td>0.0</td>\n",
       "      <td>0.0</td>\n",
       "      <td>0.0</td>\n",
       "      <td>0.0</td>\n",
       "      <td>0.0</td>\n",
       "      <td>0.000000</td>\n",
       "      <td>...</td>\n",
       "      <td>0.0</td>\n",
       "      <td>0.0</td>\n",
       "      <td>0.0</td>\n",
       "      <td>0.0</td>\n",
       "      <td>0.0</td>\n",
       "      <td>0.0</td>\n",
       "      <td>0.0</td>\n",
       "      <td>0.0</td>\n",
       "      <td>0.0</td>\n",
       "      <td>0.0</td>\n",
       "    </tr>\n",
       "    <tr>\n",
       "      <th>ERCC-00004</th>\n",
       "      <td>0.0</td>\n",
       "      <td>0.0</td>\n",
       "      <td>0.0</td>\n",
       "      <td>0.0</td>\n",
       "      <td>0.0</td>\n",
       "      <td>0.0</td>\n",
       "      <td>0.0</td>\n",
       "      <td>0.0</td>\n",
       "      <td>0.0</td>\n",
       "      <td>0.000000</td>\n",
       "      <td>...</td>\n",
       "      <td>0.0</td>\n",
       "      <td>0.0</td>\n",
       "      <td>0.0</td>\n",
       "      <td>0.0</td>\n",
       "      <td>0.0</td>\n",
       "      <td>0.0</td>\n",
       "      <td>0.0</td>\n",
       "      <td>0.0</td>\n",
       "      <td>0.0</td>\n",
       "      <td>0.0</td>\n",
       "    </tr>\n",
       "    <tr>\n",
       "      <th>ERCC-00007</th>\n",
       "      <td>0.0</td>\n",
       "      <td>0.0</td>\n",
       "      <td>0.0</td>\n",
       "      <td>0.0</td>\n",
       "      <td>0.0</td>\n",
       "      <td>0.0</td>\n",
       "      <td>0.0</td>\n",
       "      <td>0.0</td>\n",
       "      <td>0.0</td>\n",
       "      <td>0.000000</td>\n",
       "      <td>...</td>\n",
       "      <td>0.0</td>\n",
       "      <td>0.0</td>\n",
       "      <td>0.0</td>\n",
       "      <td>0.0</td>\n",
       "      <td>0.0</td>\n",
       "      <td>0.0</td>\n",
       "      <td>0.0</td>\n",
       "      <td>0.0</td>\n",
       "      <td>0.0</td>\n",
       "      <td>0.0</td>\n",
       "    </tr>\n",
       "    <tr>\n",
       "      <th>ERCC-00009</th>\n",
       "      <td>0.0</td>\n",
       "      <td>0.0</td>\n",
       "      <td>0.0</td>\n",
       "      <td>0.0</td>\n",
       "      <td>0.0</td>\n",
       "      <td>0.0</td>\n",
       "      <td>0.0</td>\n",
       "      <td>0.0</td>\n",
       "      <td>0.0</td>\n",
       "      <td>0.000000</td>\n",
       "      <td>...</td>\n",
       "      <td>0.0</td>\n",
       "      <td>0.0</td>\n",
       "      <td>0.0</td>\n",
       "      <td>0.0</td>\n",
       "      <td>0.0</td>\n",
       "      <td>0.0</td>\n",
       "      <td>0.0</td>\n",
       "      <td>0.0</td>\n",
       "      <td>0.0</td>\n",
       "      <td>0.0</td>\n",
       "    </tr>\n",
       "  </tbody>\n",
       "</table>\n",
       "<p>5 rows × 2476 columns</p>\n",
       "</div>"
      ],
      "text/plain": [
       "            IL7024-708-501  IL7024-708-502  IL7024-708-503  IL7024-708-504  \\\n",
       "symbol                                                                       \n",
       "ERCC-00002             0.0             0.0             0.0             0.0   \n",
       "ERCC-00003             0.0             0.0             0.0             0.0   \n",
       "ERCC-00004             0.0             0.0             0.0             0.0   \n",
       "ERCC-00007             0.0             0.0             0.0             0.0   \n",
       "ERCC-00009             0.0             0.0             0.0             0.0   \n",
       "\n",
       "            IL7024-708-505  IL7024-708-506  IL7024-708-507  IL7024-708-508  \\\n",
       "symbol                                                                       \n",
       "ERCC-00002             0.0             0.0             0.0             0.0   \n",
       "ERCC-00003             0.0             0.0             0.0             0.0   \n",
       "ERCC-00004             0.0             0.0             0.0             0.0   \n",
       "ERCC-00007             0.0             0.0             0.0             0.0   \n",
       "ERCC-00009             0.0             0.0             0.0             0.0   \n",
       "\n",
       "            IL7024-709-501  IL7024-709-502       ...        IL7017-709-507  \\\n",
       "symbol                                           ...                         \n",
       "ERCC-00002             0.0        0.345941       ...                   0.0   \n",
       "ERCC-00003             0.0        0.000000       ...                   0.0   \n",
       "ERCC-00004             0.0        0.000000       ...                   0.0   \n",
       "ERCC-00007             0.0        0.000000       ...                   0.0   \n",
       "ERCC-00009             0.0        0.000000       ...                   0.0   \n",
       "\n",
       "            IL7017-709-508  IL7017-710-501  IL7017-710-502  IL7017-710-503  \\\n",
       "symbol                                                                       \n",
       "ERCC-00002             0.0             0.0             0.0             0.0   \n",
       "ERCC-00003             0.0             0.0             0.0             0.0   \n",
       "ERCC-00004             0.0             0.0             0.0             0.0   \n",
       "ERCC-00007             0.0             0.0             0.0             0.0   \n",
       "ERCC-00009             0.0             0.0             0.0             0.0   \n",
       "\n",
       "            IL7017-710-504  IL7017-710-505  IL7017-710-506  IL7017-710-507  \\\n",
       "symbol                                                                       \n",
       "ERCC-00002             0.0             0.0             0.0             0.0   \n",
       "ERCC-00003             0.0             0.0             0.0             0.0   \n",
       "ERCC-00004             0.0             0.0             0.0             0.0   \n",
       "ERCC-00007             0.0             0.0             0.0             0.0   \n",
       "ERCC-00009             0.0             0.0             0.0             0.0   \n",
       "\n",
       "            IL7017-710-508  \n",
       "symbol                      \n",
       "ERCC-00002             0.0  \n",
       "ERCC-00003             0.0  \n",
       "ERCC-00004             0.0  \n",
       "ERCC-00007             0.0  \n",
       "ERCC-00009             0.0  \n",
       "\n",
       "[5 rows x 2476 columns]"
      ]
     },
     "execution_count": 5,
     "metadata": {},
     "output_type": "execute_result"
    }
   ],
   "source": [
    "# Normalize read counts by total reads mapped (transform to Counts Per Million)\n",
    "df_CPM = df.div(df.sum(axis=0), axis=1) * 1e6\n",
    "df_CPM.head()"
   ]
  },
  {
   "cell_type": "code",
   "execution_count": 6,
   "metadata": {
    "collapsed": true
   },
   "outputs": [],
   "source": [
    "# Calculate log2(CPM+1) transform\n",
    "df_logCPM = np.log2(df_CPM + 1)"
   ]
  },
  {
   "cell_type": "markdown",
   "metadata": {},
   "source": [
    "# Save output"
   ]
  },
  {
   "cell_type": "code",
   "execution_count": 7,
   "metadata": {
    "collapsed": true
   },
   "outputs": [],
   "source": [
    "df_CPM.to_csv(\"../data/htseq_CPM.tab.gz\", sep=\"\\t\", compression=\"gzip\")\n",
    "df_logCPM.to_csv(\"../data/htseq_logCPM.tab.gz\", sep=\"\\t\", compression=\"gzip\")"
   ]
  },
  {
   "cell_type": "markdown",
   "metadata": {},
   "source": [
    "# Load mapping statistics"
   ]
  },
  {
   "cell_type": "code",
   "execution_count": 9,
   "metadata": {
    "collapsed": false
   },
   "outputs": [
    {
     "data": {
      "text/html": [
       "<div>\n",
       "<table border=\"1\" class=\"dataframe\">\n",
       "  <thead>\n",
       "    <tr style=\"text-align: right;\">\n",
       "      <th></th>\n",
       "      <th>input</th>\n",
       "      <th>uniquely_mapped</th>\n",
       "      <th>multiple_loci</th>\n",
       "      <th>too_many_loci</th>\n",
       "      <th>percent_unmapped_too_many_mismatches</th>\n",
       "      <th>percent_unmapped_too_short</th>\n",
       "    </tr>\n",
       "    <tr>\n",
       "      <th>name</th>\n",
       "      <th></th>\n",
       "      <th></th>\n",
       "      <th></th>\n",
       "      <th></th>\n",
       "      <th></th>\n",
       "      <th></th>\n",
       "    </tr>\n",
       "  </thead>\n",
       "  <tbody>\n",
       "    <tr>\n",
       "      <th>N357Barcode_719-507</th>\n",
       "      <td>1315895</td>\n",
       "      <td>1152839</td>\n",
       "      <td>137616</td>\n",
       "      <td>2733</td>\n",
       "      <td>0.80%</td>\n",
       "      <td>0.89%</td>\n",
       "    </tr>\n",
       "    <tr>\n",
       "      <th>N357Barcode_721-505</th>\n",
       "      <td>824255</td>\n",
       "      <td>718104</td>\n",
       "      <td>79531</td>\n",
       "      <td>4729</td>\n",
       "      <td>0.93%</td>\n",
       "      <td>1.65%</td>\n",
       "    </tr>\n",
       "    <tr>\n",
       "      <th>N357Barcode_712-506</th>\n",
       "      <td>1125477</td>\n",
       "      <td>992238</td>\n",
       "      <td>106212</td>\n",
       "      <td>4189</td>\n",
       "      <td>0.86%</td>\n",
       "      <td>1.09%</td>\n",
       "    </tr>\n",
       "    <tr>\n",
       "      <th>N357Barcode_729-515</th>\n",
       "      <td>1376791</td>\n",
       "      <td>1291478</td>\n",
       "      <td>61304</td>\n",
       "      <td>2097</td>\n",
       "      <td>0.70%</td>\n",
       "      <td>0.83%</td>\n",
       "    </tr>\n",
       "    <tr>\n",
       "      <th>N357Barcode_711-517</th>\n",
       "      <td>1077978</td>\n",
       "      <td>973112</td>\n",
       "      <td>87247</td>\n",
       "      <td>1848</td>\n",
       "      <td>0.88%</td>\n",
       "      <td>0.56%</td>\n",
       "    </tr>\n",
       "  </tbody>\n",
       "</table>\n",
       "</div>"
      ],
      "text/plain": [
       "                       input  uniquely_mapped  multiple_loci  too_many_loci  \\\n",
       "name                                                                          \n",
       "N357Barcode_719-507  1315895          1152839         137616           2733   \n",
       "N357Barcode_721-505   824255           718104          79531           4729   \n",
       "N357Barcode_712-506  1125477           992238         106212           4189   \n",
       "N357Barcode_729-515  1376791          1291478          61304           2097   \n",
       "N357Barcode_711-517  1077978           973112          87247           1848   \n",
       "\n",
       "                    percent_unmapped_too_many_mismatches  \\\n",
       "name                                                       \n",
       "N357Barcode_719-507                                0.80%   \n",
       "N357Barcode_721-505                                0.93%   \n",
       "N357Barcode_712-506                                0.86%   \n",
       "N357Barcode_729-515                                0.70%   \n",
       "N357Barcode_711-517                                0.88%   \n",
       "\n",
       "                    percent_unmapped_too_short  \n",
       "name                                            \n",
       "N357Barcode_719-507                      0.89%  \n",
       "N357Barcode_721-505                      1.65%  \n",
       "N357Barcode_712-506                      1.09%  \n",
       "N357Barcode_729-515                      0.83%  \n",
       "N357Barcode_711-517                      0.56%  "
      ]
     },
     "execution_count": 9,
     "metadata": {},
     "output_type": "execute_result"
    }
   ],
   "source": [
    "df_star = pd.read_csv(\"../data/STAR.tab.gz\", sep=\"\\t\", header=0, index_col=0)\n",
    "df_star.head()"
   ]
  },
  {
   "cell_type": "markdown",
   "metadata": {},
   "source": [
    "# Plot distribution of mapped reads per cell"
   ]
  },
  {
   "cell_type": "code",
   "execution_count": 10,
   "metadata": {
    "collapsed": false
   },
   "outputs": [
    {
     "data": {
      "image/png": "[encoded data removed]",
      "text/plain": [
       "<matplotlib.figure.Figure at 0x7f20bd326d10>"
      ]
     },
     "metadata": {},
     "output_type": "display_data"
    }
   ],
   "source": [
    "fig, ax = plt.subplots(1, 1, figsize=(6,4))\n",
    "ax.hist(df_star[\"input\"], bins=np.logspace(0,7,50))\n",
    "ax.set_xscale('log')\n",
    "ax.set_yscale('log')\n",
    "ax.set_ylim(1, 1e4)\n",
    "ax.set_xlabel(\"Mapped reads\")\n",
    "ax.set_ylabel(\"Cells\")\n",
    "sns.despine()\n",
    "plt.tight_layout()"
   ]
  },
  {
   "cell_type": "markdown",
   "metadata": {},
   "source": [
    "# Remove low quality cells having few reads/cell"
   ]
  },
  {
   "cell_type": "code",
   "execution_count": 11,
   "metadata": {
    "collapsed": false
   },
   "outputs": [
    {
     "name": "stdout",
     "output_type": "stream",
     "text": [
      "Cells removed 205\n",
      "Cells remaining 2271\n"
     ]
    }
   ],
   "source": [
    "cutoff = 3e5\n",
    "names_hq = df_star.loc[df_star[\"uniquely_mapped\"] >= cutoff].index\n",
    "df_logCPM_hq = df_logCPM[names_hq]\n",
    "print \"Cells removed\", df_star.loc[df_star[\"uniquely_mapped\"] < cutoff].shape[0]\n",
    "print \"Cells remaining\", len(names_hq)"
   ]
  },
  {
   "cell_type": "code",
   "execution_count": 12,
   "metadata": {
    "collapsed": false
   },
   "outputs": [
    {
     "data": {
      "text/plain": [
       "GH146-GFP             118\n",
       "DIP-zeta-GFP           21\n",
       "DIP-beta-GFP           12\n",
       "esglia                 11\n",
       "GH146-GFP,acj6-        10\n",
       "Mz19-GFP,36hAPF         9\n",
       "Mz19-GFP,24hAPF         7\n",
       "Mz19-GFP,adult          5\n",
       "DIP-alpha-GFP           4\n",
       "C155-GFP                2\n",
       "astrocyte               2\n",
       "Mz19-GFP-RFP,acj6-      1\n",
       "NP5103-GFP              1\n",
       "Ladder                  1\n",
       "91G04-GFP               1\n",
       "Name: label, dtype: int64"
      ]
     },
     "execution_count": 12,
     "metadata": {},
     "output_type": "execute_result"
    }
   ],
   "source": [
    "# Cells removed\n",
    "df_libs.loc[df_star.loc[df_star[\"uniquely_mapped\"] < cutoff].index][\"label\"].value_counts()"
   ]
  },
  {
   "cell_type": "markdown",
   "metadata": {
    "collapsed": true
   },
   "source": [
    "# Keep cells having > 8 CPM for 4/6 neuron marker genes"
   ]
  },
  {
   "cell_type": "code",
   "execution_count": 13,
   "metadata": {
    "collapsed": false
   },
   "outputs": [
    {
     "name": "stdout",
     "output_type": "stream",
     "text": [
      "Neurons 1940\n"
     ]
    }
   ],
   "source": [
    "genes_neuron_marker = [\"mCD8-GFP\", \"elav\", \"brp\", \"Syt1\", \"nSyb\", \"CadN\"]\n",
    "names_hq_neurons = df_logCPM_hq.columns[np.where(np.sum(df_logCPM_hq.loc[genes_neuron_marker] > 4, axis=0) >= 4)]\n",
    "df_logCPM_neurons = df_logCPM[names_hq_neurons]\n",
    "print \"Neurons\", len(names_hq_neurons)"
   ]
  },
  {
   "cell_type": "code",
   "execution_count": 14,
   "metadata": {
    "collapsed": false
   },
   "outputs": [
    {
     "name": "stdout",
     "output_type": "stream",
     "text": [
      "Cells removed 331\n"
     ]
    },
    {
     "data": {
      "text/plain": [
       "GH146-GFP             100\n",
       "esglia                 78\n",
       "astrocyte              68\n",
       "DIP-beta-GFP           37\n",
       "DIP-zeta-GFP           22\n",
       "Mz19-GFP,adult          8\n",
       "GH146-GFP,acj6-         5\n",
       "Mz19-GFP,72hAPF         4\n",
       "Mz19-GFP,36hAPF         4\n",
       "Mz19-GFP-RFP,acj6-      2\n",
       "NP5103-GFP              2\n",
       "DIP-alpha-GFP           1\n",
       "Name: label, dtype: int64"
      ]
     },
     "execution_count": 14,
     "metadata": {},
     "output_type": "execute_result"
    }
   ],
   "source": [
    "names_removed_neuronFilter = list(set(names_hq) - set(names_hq_neurons))\n",
    "print \"Cells removed\", len(names_removed_neuronFilter)\n",
    "\n",
    "# Report labels of cells removed\n",
    "df_libs.loc[names_removed_neuronFilter][\"label\"].value_counts()"
   ]
  },
  {
   "cell_type": "code",
   "execution_count": 15,
   "metadata": {
    "collapsed": false
   },
   "outputs": [
    {
     "data": {
      "text/plain": [
       "0.97268041237113401"
      ]
     },
     "execution_count": 15,
     "metadata": {},
     "output_type": "execute_result"
    }
   ],
   "source": [
    "# After filtering, what fraction of cells express GFP?\n",
    "np.mean(df_logCPM_neurons.loc[\"mCD8-GFP\"] > 4)"
   ]
  },
  {
   "cell_type": "markdown",
   "metadata": {
    "collapsed": true
   },
   "source": [
    "# Save outputs"
   ]
  },
  {
   "cell_type": "code",
   "execution_count": null,
   "metadata": {
    "collapsed": true
   },
   "outputs": [],
   "source": [
    "df_logCPM_hq.to_csv(\"../data/htseq_logCPM_hq.tab.gz\", sep=\"\\t\", compression=\"gzip\")\n",
    "df_logCPM_neurons.to_csv(\"../data/htseq_logCPM_neurons.tab.gz\", sep=\"\\t\", compression=\"gzip\")"
   ]
  },
  {
   "cell_type": "code",
   "execution_count": null,
   "metadata": {
    "collapsed": true
   },
   "outputs": [],
   "source": [
    "with open(\"../data/names_hq_neurons.txt\", 'w') as out:\n",
    "    for x in names_hq_neurons:\n",
    "        out.write(x + \"\\n\")"
   ]
  },
  {
   "cell_type": "code",
   "execution_count": null,
   "metadata": {
    "collapsed": true
   },
   "outputs": [],
   "source": []
  }
 ],
 "metadata": {
  "kernelspec": {
   "display_name": "Python 2",
   "language": "python",
   "name": "python2"
  },
  "language_info": {
   "codemirror_mode": {
    "name": "ipython",
    "version": 2
   },
   "file_extension": ".py",
   "mimetype": "text/x-python",
   "name": "python",
   "nbconvert_exporter": "python",
   "pygments_lexer": "ipython2",
   "version": "2.7.13"
  }
 },
 "nbformat": 4,
 "nbformat_minor": 2
}
